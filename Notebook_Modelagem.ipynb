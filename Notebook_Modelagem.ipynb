{
 "cells": [
  {
   "cell_type": "markdown",
   "metadata": {},
   "source": [
    ">> # Modelo preditivo - Melhor devedor\n",
    "- Modelagem preditiva preditica de classificação binária para identificar o melhor telefone para discar eo devedor mais propenso a pagar um título"
   ]
  },
  {
   "cell_type": "markdown",
   "metadata": {},
   "source": [
    "# Importando pacotes e bibliotecas"
   ]
  },
  {
   "cell_type": "code",
   "execution_count": 1,
   "metadata": {},
   "outputs": [],
   "source": [
    "import pandas as pd\n",
    "import numpy as np\n",
    "import seaborn as sns\n",
    "import os , gc, time, urllib, pyodbc, warnings\n",
    "warnings.filterwarnings(\"ignore\")\n",
    "from datetime import date, timedelta\n",
    "import sqlalchemy as sql\n",
    "from sqlalchemy import create_engine"
   ]
  },
  {
   "cell_type": "markdown",
   "metadata": {},
   "source": [
    "# ETL\n"
   ]
  },
  {
   "cell_type": "code",
   "execution_count": 5,
   "metadata": {},
   "outputs": [
    {
     "data": {
      "text/plain": [
       "<bound method Engine.connect of Engine(mssql+pyodbc:///?odbc_connect=DRIVER%3D%7BSQL+Server+Native+Client+11.0%7D%3BSERVER%3D10.10.220.100%3BDATABASE%3DdbActyon_GAB%3BUID%3Dralisson.local%3BPWD%3DA4TIL%26fRplPn%3BTrusted_Connection%3Dno)>"
      ]
     },
     "execution_count": 5,
     "metadata": {},
     "output_type": "execute_result"
    }
   ],
   "source": [
    "params = urllib.parse.quote_plus(\"DRIVER={SQL Server Native Client 11.0};\"\n",
    "                                 \"SERVER=xxxxxxxx;\"\n",
    "                                 \"DATABASE=xxxxxxxxxx;\" # trocar o nome da operação\n",
    "                                 \"UID=XXXXXXXXXX;\"\n",
    "                                 \"PWD=XXXXXX;\"\n",
    "                                 \"Trusted_Connection=no\")\n",
    "engine = sql.create_engine(\"mssql+pyodbc:///?odbc_connect={}\".format(params))\n",
    "engine.connect"
   ]
  },
  {
   "cell_type": "code",
   "execution_count": 6,
   "metadata": {},
   "outputs": [],
   "source": [
    "#Criando variavei de datas para coleta da query sql\n",
    "\n",
    "TODAY = date.today()\n",
    "YESTERDAY = date.today() - timedelta(days=20)\n",
    "data_inicio = f\"{YESTERDAY.year}-{YESTERDAY.month}-{YESTERDAY.day}\" #yesterday \n",
    "data_final = f\"{TODAY.year}-{TODAY.month}-{TODAY.day}\""
   ]
  },
  {
   "cell_type": "code",
   "execution_count": 7,
   "metadata": {},
   "outputs": [
    {
     "name": "stdout",
     "output_type": "stream",
     "text": [
      "tamanho da tabela:  (122815, 8)\n"
     ]
    },
    {
     "data": {
      "text/plain": [
       "0"
      ]
     },
     "execution_count": 7,
     "metadata": {},
     "output_type": "execute_result"
    }
   ],
   "source": [
    "#Importando dados do banco de dados SQL\n",
    "\n",
    "query = '''\n",
    "\n",
    "    SELECT distinct\n",
    "        tbtitulo.TITULO_ID,\n",
    "        tbdevedor.CEP,\n",
    "        tbdevedor_fone.ORIGEM,\n",
    "        tbdevedor_fone.TIPO,\n",
    "        tbdevedor.QTDE_TITULOS,\n",
    "        tbdevedor.VALOR_DIVIDA_ATIVA,\n",
    "        tbtitulo_contrato_indicador.INDICADOR,\n",
    "        tbtitulo_pago.TIPO_BAIXA\n",
    "\n",
    "    FROM tbtitulo  (NOLOCK)\n",
    "        JOIN tbtitulo_pago  (NOLOCK) ON tbtitulo.TITULO_ID = tbtitulo_pago.TITULO_ID\n",
    "        JOIN tbdevedor  (NOLOCK) ON tbdevedor.DEVEDOR_ID = tbtitulo.DEVEDOR_ID\n",
    "        JOIN tbdevedor_fone  (NOLOCK) ON tbdevedor.DEVEDOR_ID = tbdevedor_fone.DEVEDOR_ID\n",
    "        JOIN tbtitulo_contrato_indicador  (NOLOCK) ON tbdevedor.DEVEDOR_ID = tbtitulo_contrato_indicador.DEVEDOR_ID\n",
    "\n",
    "    WHERE tbdevedor_fone.STATUS = 0\n",
    "    AND tbdevedor.DATA_IMPORTACAO between\n",
    "    \n",
    "\n",
    "'''\n",
    "#df = pd.read_sql(query, engine)\n",
    "df = pd.read_sql(query + f\"'{data_inicio}' AND '{data_final}'\", engine)\n",
    "print(\"tamanho da tabela: \", df.shape)\n",
    "\n",
    "engine.dispose()\n",
    "gc.collect()"
   ]
  },
  {
   "cell_type": "code",
   "execution_count": 8,
   "metadata": {},
   "outputs": [
    {
     "data": {
      "text/plain": [
       "(122815, 8)"
      ]
     },
     "execution_count": 8,
     "metadata": {},
     "output_type": "execute_result"
    }
   ],
   "source": [
    "df = df.drop_duplicates()\n",
    "#df.dropna(inplace = True)\n",
    "df.shape"
   ]
  },
  {
   "cell_type": "markdown",
   "metadata": {},
   "source": [
    "# Engenharia de Atributos"
   ]
  },
  {
   "cell_type": "code",
   "execution_count": 9,
   "metadata": {},
   "outputs": [],
   "source": [
    "#Trabalhando com datas\n",
    "TODAY = date.today()\n",
    "TODAY = pd.to_datetime(TODAY)"
   ]
  },
  {
   "cell_type": "code",
   "execution_count": 10,
   "metadata": {},
   "outputs": [],
   "source": [
    "#alterando tipo das featrures\n",
    "df['TIPO_BAIXA'] = df['TIPO_BAIXA'].astype('category')\n",
    "df['CEP'] = df['CEP'].astype('category')\n",
    "df['TITULO_ID'] = df['TITULO_ID'].astype(str)\n",
    "df['ORIGEM'] = df['ORIGEM'].astype('category')\n",
    "df['INDICADOR'] = df['INDICADOR'].astype('category')\n",
    "df['TIPO'] = df['TIPO'].astype('category')"
   ]
  },
  {
   "cell_type": "code",
   "execution_count": 11,
   "metadata": {},
   "outputs": [
    {
     "data": {
      "text/plain": [
       "0    90371\n",
       "2    32444\n",
       "Name: TIPO_BAIXA, dtype: int64"
      ]
     },
     "execution_count": 11,
     "metadata": {},
     "output_type": "execute_result"
    }
   ],
   "source": [
    "df.TIPO_BAIXA.value_counts()"
   ]
  },
  {
   "cell_type": "code",
   "execution_count": 12,
   "metadata": {},
   "outputs": [],
   "source": [
    "#Variavel alvo Pagamento de títulos\n",
    "df['TARGET']  = df['TIPO_BAIXA'].replace(['1', '2' , '4','5', '3', '8','7',None, '0'], ['Nao_pagamento','Nao_pagamento', 'Nao_pagamento',\n",
    "                                                                    'Nao_pagamento','Nao_pagamento','Nao_pagamento','Nao_pagamento','Nao_pagamento','Pagamento'])\n",
    "df['TARGET']  = df['TARGET'].replace(['Nao_pagamento','Pagamento' ], [0, 1])"
   ]
  },
  {
   "cell_type": "code",
   "execution_count": 13,
   "metadata": {},
   "outputs": [
    {
     "data": {
      "text/plain": [
       "1    90371\n",
       "0    32444\n",
       "Name: TARGET, dtype: int64"
      ]
     },
     "execution_count": 13,
     "metadata": {},
     "output_type": "execute_result"
    }
   ],
   "source": [
    "df.TARGET.value_counts()"
   ]
  },
  {
   "cell_type": "code",
   "execution_count": 14,
   "metadata": {},
   "outputs": [
    {
     "data": {
      "text/plain": [
       "<AxesSubplot:>"
      ]
     },
     "execution_count": 14,
     "metadata": {},
     "output_type": "execute_result"
    },
    {
     "data": {
      "image/png": "[encoded data removed]",
      "text/plain": [
       "<Figure size 432x288 with 1 Axes>"
      ]
     },
     "metadata": {
      "needs_background": "light"
     },
     "output_type": "display_data"
    }
   ],
   "source": [
    "df.sample(frac=0.1).boxplot('VALOR_DIVIDA_ATIVA')"
   ]
  },
  {
   "cell_type": "code",
   "execution_count": 15,
   "metadata": {},
   "outputs": [
    {
     "data": {
      "text/plain": [
       "<AxesSubplot:>"
      ]
     },
     "execution_count": 15,
     "metadata": {},
     "output_type": "execute_result"
    },
    {
     "data": {
      "image/png": "[encoded data removed]",
      "text/plain": [
       "<Figure size 432x288 with 1 Axes>"
      ]
     },
     "metadata": {
      "needs_background": "light"
     },
     "output_type": "display_data"
    }
   ],
   "source": [
    "df.sample(frac=0.1).boxplot('QTDE_TITULOS')"
   ]
  },
  {
   "cell_type": "code",
   "execution_count": 20,
   "metadata": {},
   "outputs": [
    {
     "data": {
      "text/plain": [
       "(103840, 9)"
      ]
     },
     "execution_count": 20,
     "metadata": {},
     "output_type": "execute_result"
    }
   ],
   "source": [
    "df = df.query('VALOR_DIVIDA_ATIVA < 5000')\n",
    "df = df.query('QTDE_TITULOS < 200 ')\n",
    "df.shape"
   ]
  },
  {
   "cell_type": "code",
   "execution_count": 21,
   "metadata": {},
   "outputs": [
    {
     "data": {
      "text/plain": [
       "<AxesSubplot:>"
      ]
     },
     "execution_count": 21,
     "metadata": {},
     "output_type": "execute_result"
    },
    {
     "data": {
      "image/png": "[encoded data removed]",
      "text/plain": [
       "<Figure size 432x288 with 1 Axes>"
      ]
     },
     "metadata": {
      "needs_background": "light"
     },
     "output_type": "display_data"
    }
   ],
   "source": [
    "df.sample(frac=0.1).boxplot('VALOR_DIVIDA_ATIVA')"
   ]
  },
  {
   "cell_type": "code",
   "execution_count": 22,
   "metadata": {},
   "outputs": [
    {
     "data": {
      "text/plain": [
       "TITULO_ID             0\n",
       "CEP                   0\n",
       "ORIGEM                0\n",
       "TIPO                  0\n",
       "QTDE_TITULOS          0\n",
       "VALOR_DIVIDA_ATIVA    0\n",
       "INDICADOR             0\n",
       "TIPO_BAIXA            0\n",
       "TARGET                0\n",
       "dtype: int64"
      ]
     },
     "execution_count": 22,
     "metadata": {},
     "output_type": "execute_result"
    }
   ],
   "source": [
    "df.isna().sum()"
   ]
  },
  {
   "cell_type": "code",
   "execution_count": 23,
   "metadata": {},
   "outputs": [
    {
     "data": {
      "text/plain": [
       "(103840, 8)"
      ]
     },
     "execution_count": 23,
     "metadata": {},
     "output_type": "execute_result"
    }
   ],
   "source": [
    "df.drop(columns=['TIPO_BAIXA'], inplace=True)\n",
    "df.drop_duplicates(inplace=True)\n",
    "df.dropna(inplace=True)\n",
    "df.shape"
   ]
  },
  {
   "cell_type": "markdown",
   "metadata": {},
   "source": [
    "# Pre Processamento dos dados"
   ]
  },
  {
   "cell_type": "markdown",
   "metadata": {},
   "source": [
    "## Balanceamento de Variáveis"
   ]
  },
  {
   "cell_type": "code",
   "execution_count": 24,
   "metadata": {},
   "outputs": [
    {
     "name": "stdout",
     "output_type": "stream",
     "text": [
      "Class 0: 20378\n",
      "Class 1: 83462\n",
      "Proportion: 0.24 : 1\n"
     ]
    },
    {
     "data": {
      "image/png": "[encoded data removed]",
      "text/plain": [
       "<Figure size 432x288 with 1 Axes>"
      ]
     },
     "metadata": {
      "needs_background": "light"
     },
     "output_type": "display_data"
    }
   ],
   "source": [
    "target_count = df['TARGET'].value_counts()\n",
    "print('Class 0:', target_count[0])\n",
    "print('Class 1:', target_count[1])\n",
    "print('Proportion:', round(target_count[0] / target_count[1], 2), ': 1')\n",
    "target_count.plot(kind='bar', title='Count (TARGET)',color = ['#1F77B4', '#FF7F0E']);"
   ]
  },
  {
   "cell_type": "code",
   "execution_count": 27,
   "metadata": {},
   "outputs": [
    {
     "name": "stdout",
     "output_type": "stream",
     "text": [
      "Random under-sampling:\n",
      "0    20378\n",
      "1    20378\n",
      "Name: TARGET, dtype: int64\n"
     ]
    },
    {
     "data": {
      "image/png": "[encoded data removed]",
      "text/plain": [
       "<Figure size 432x288 with 1 Axes>"
      ]
     },
     "metadata": {
      "needs_background": "light"
     },
     "output_type": "display_data"
    }
   ],
   "source": [
    "# CONTAR CLASSES\n",
    "count_class_1, count_class_0 = df['TARGET'].value_counts()\n",
    "# Divide by class\n",
    "df_class_0 = df[df['TARGET'] == 0]\n",
    "df_class_1 = df[df['TARGET'] == 1]\n",
    "df_class_1_under = df_class_1.sample(count_class_0)\n",
    "df = pd.concat([df_class_1_under, df_class_0], axis=0)\n",
    "print('Random under-sampling:')\n",
    "print(df['TARGET'].value_counts())\n",
    "df['TARGET'].value_counts().plot(kind='bar', title='Count (TARGET)',color = ['#1F77B4', '#FF7F0E']);"
   ]
  },
  {
   "cell_type": "code",
   "execution_count": 28,
   "metadata": {},
   "outputs": [
    {
     "data": {
      "text/plain": [
       "Index(['TITULO_ID', 'CEP', 'ORIGEM', 'TIPO', 'QTDE_TITULOS',\n",
       "       'VALOR_DIVIDA_ATIVA', 'INDICADOR', 'TARGET'],\n",
       "      dtype='object')"
      ]
     },
     "execution_count": 28,
     "metadata": {},
     "output_type": "execute_result"
    }
   ],
   "source": [
    "df.columns"
   ]
  },
  {
   "cell_type": "code",
   "execution_count": 29,
   "metadata": {},
   "outputs": [],
   "source": [
    "features = df[[ 'QTDE_TITULOS', 'VALOR_DIVIDA_ATIVA', 'CEP' , 'INDICADOR']] \n",
    "\n",
    "target = df[['TARGET']]"
   ]
  },
  {
   "cell_type": "markdown",
   "metadata": {},
   "source": [
    "## Padronização ou Normalização das variáveis"
   ]
  },
  {
   "cell_type": "code",
   "execution_count": 30,
   "metadata": {},
   "outputs": [],
   "source": [
    "from sklearn.preprocessing import LabelEncoder\n",
    "le = LabelEncoder()\n",
    "features['CEP']= le.fit_transform(features[\"CEP\"])\n",
    "features['INDICADOR']= le.fit_transform(features[\"INDICADOR\"])\n",
    "\n",
    "from sklearn.preprocessing import StandardScaler\n",
    "scaler = StandardScaler()\n",
    "features['QTDE_TITULOS'] = scaler.fit_transform(features[['QTDE_TITULOS']])\n",
    "features['VALOR_DIVIDA_ATIVA'] = scaler.fit_transform(features[['VALOR_DIVIDA_ATIVA']])\n"
   ]
  },
  {
   "cell_type": "code",
   "execution_count": 31,
   "metadata": {},
   "outputs": [],
   "source": [
    "del df_class_0\n",
    "del df_class_1"
   ]
  },
  {
   "cell_type": "markdown",
   "metadata": {},
   "source": [
    "# Modelagem preditiva"
   ]
  },
  {
   "cell_type": "markdown",
   "metadata": {},
   "source": [
    "## Modelagem Preditiva com O algoritimo Devedor"
   ]
  },
  {
   "cell_type": "code",
   "execution_count": 32,
   "metadata": {},
   "outputs": [
    {
     "name": "stdout",
     "output_type": "stream",
     "text": [
      "[09:33:00] WARNING: C:/Users/Administrator/workspace/xgboost-win64_release_1.4.0/src/learner.cc:1095: Starting in XGBoost 1.3.0, the default evaluation metric used with the objective 'binary:logistic' was changed from 'error' to 'logloss'. Explicitly set eval_metric if you'd like to restore the old behavior.\n",
      "              precision    recall  f1-score   support\n",
      "\n",
      "           0       0.83      0.98      0.90      6125\n",
      "           1       0.97      0.81      0.88      6102\n",
      "\n",
      "    accuracy                           0.89     12227\n",
      "   macro avg       0.90      0.89      0.89     12227\n",
      "weighted avg       0.90      0.89      0.89     12227\n",
      "\n",
      "o tempo de execução foi de:  1.2158427238464355 segundos,  ou  0.020264045397440592 minutos\n"
     ]
    }
   ],
   "source": [
    "# Avaliação do modelo usando o XGBoost\n",
    "from xgboost import XGBClassifier\n",
    "from sklearn.ensemble import GradientBoostingClassifier\n",
    "from sklearn.model_selection import train_test_split\n",
    "from sklearn.metrics import classification_report\n",
    "\n",
    "inicio = time.time()\n",
    "\n",
    "# Divide os dados em treino e teste\n",
    "X = features\n",
    "Y = target\n",
    "X_train, X_test, Y_train, Y_test = train_test_split(X, Y, test_size = 0.30, random_state = 5)\n",
    "\n",
    "# Criando o modelo\n",
    "Model = XGBClassifier(colsample_bytree=0.2, gamma=0, gpu_id=-1, learning_rate=0.2,  max_depth=6, n_estimators=150, n_jobs=48,\n",
    "                         nthread=48, num_parallel_tree=1, random_state=0, subsample=0.2 ) \n",
    "\n",
    "# Treinando o modelo\n",
    "Model.fit(X_train, Y_train)\n",
    "\n",
    "# Previsão do modelo\n",
    "Predict = Model.predict(X_test)\n",
    "report = classification_report(Y_test, Predict)\n",
    "\n",
    "# Imprimindo o relatório\n",
    "print(report)\n",
    "\n",
    "fim = time.time()\n",
    "print(\"o tempo de execução foi de: \", fim - inicio, \"segundos,  ou \",(fim - inicio)/60, \"minutos\" )"
   ]
  },
  {
   "cell_type": "markdown",
   "metadata": {},
   "source": [
    "## Análise de Features e Acurácia"
   ]
  },
  {
   "cell_type": "code",
   "execution_count": 33,
   "metadata": {},
   "outputs": [
    {
     "data": {
      "text/html": [
       "<div>\n",
       "<style scoped>\n",
       "    .dataframe tbody tr th:only-of-type {\n",
       "        vertical-align: middle;\n",
       "    }\n",
       "\n",
       "    .dataframe tbody tr th {\n",
       "        vertical-align: top;\n",
       "    }\n",
       "\n",
       "    .dataframe thead th {\n",
       "        text-align: right;\n",
       "    }\n",
       "</style>\n",
       "<table border=\"1\" class=\"dataframe\">\n",
       "  <thead>\n",
       "    <tr style=\"text-align: right;\">\n",
       "      <th></th>\n",
       "      <th>importance</th>\n",
       "    </tr>\n",
       "  </thead>\n",
       "  <tbody>\n",
       "    <tr>\n",
       "      <th>QTDE_TITULOS</th>\n",
       "      <td>0.458767</td>\n",
       "    </tr>\n",
       "    <tr>\n",
       "      <th>VALOR_DIVIDA_ATIVA</th>\n",
       "      <td>0.322777</td>\n",
       "    </tr>\n",
       "    <tr>\n",
       "      <th>CEP</th>\n",
       "      <td>0.170824</td>\n",
       "    </tr>\n",
       "    <tr>\n",
       "      <th>INDICADOR</th>\n",
       "      <td>0.047631</td>\n",
       "    </tr>\n",
       "  </tbody>\n",
       "</table>\n",
       "</div>"
      ],
      "text/plain": [
       "                    importance\n",
       "QTDE_TITULOS          0.458767\n",
       "VALOR_DIVIDA_ATIVA    0.322777\n",
       "CEP                   0.170824\n",
       "INDICADOR             0.047631"
      ]
     },
     "execution_count": 33,
     "metadata": {},
     "output_type": "execute_result"
    }
   ],
   "source": [
    "# Seleção dos melhores atributos como resultado para a modelagem CPC\n",
    "gc.collect()\n",
    "Model.feature_importances_\n",
    "feature_importances = pd.DataFrame(Model.feature_importances_,\n",
    "                                   index = X.columns,\n",
    "                                   columns=['importance']).sort_values('importance', ascending=False)\n",
    "feature_importances\n",
    "\n"
   ]
  },
  {
   "cell_type": "code",
   "execution_count": 35,
   "metadata": {},
   "outputs": [
    {
     "name": "stdout",
     "output_type": "stream",
     "text": [
      "Modelo salvo!\n",
      "Nomes Salvo\n"
     ]
    }
   ],
   "source": [
    "# Salvando o modelo Propensao a pagar\n",
    "import pickle\n",
    "\n",
    "arquivo_cpf = './models/modelo_v1_devedor.sav'\n",
    "pickle.dump(Model, open(arquivo_cpf, 'wb'))\n",
    "print(\"Modelo salvo!\")\n",
    "\n",
    "# Salvar as features do modelo\n",
    "with open('NameFeature_v1_devedor','wb') as arquivo_cpf:\n",
    "   pickle.dump(features.columns, arquivo_cpf)\n",
    "\n",
    "print('Nomes Salvo')"
   ]
  }
 ],
 "metadata": {
  "interpreter": {
   "hash": "3e7ffb16807c612527859a4be59be6cdfc3f0bdfc5c07886aa766faef6ede9b2"
  },
  "kernelspec": {
   "display_name": "Python 3.8.8 64-bit ('base': conda)",
   "name": "python3"
  },
  "language_info": {
   "codemirror_mode": {
    "name": "ipython",
    "version": 3
   },
   "file_extension": ".py",
   "mimetype": "text/x-python",
   "name": "python",
   "nbconvert_exporter": "python",
   "pygments_lexer": "ipython3",
   "version": "3.8.8"
  }
 },
 "nbformat": 4,
 "nbformat_minor": 4
}
